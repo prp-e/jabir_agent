{
 "cells": [
  {
   "cell_type": "code",
   "execution_count": 1,
   "id": "aa210bc6",
   "metadata": {},
   "outputs": [],
   "source": [
    "from openai import OpenAI\n",
    "import re"
   ]
  },
  {
   "cell_type": "code",
   "execution_count": 2,
   "id": "f26a783a",
   "metadata": {},
   "outputs": [],
   "source": [
    "client = OpenAI(api_key=\"FAKE\", base_url=\"https://openai.jabirproject.org/v1\")"
   ]
  },
  {
   "cell_type": "markdown",
   "id": "e76b1537",
   "metadata": {},
   "source": [
    "## Testing the API"
   ]
  },
  {
   "cell_type": "code",
   "execution_count": 3,
   "id": "ef96255c",
   "metadata": {},
   "outputs": [],
   "source": [
    "completion = client.chat.completions.create(\n",
    "    model = \"jabir-400b\",\n",
    "    messages = [\n",
    "        {\n",
    "            \"role\" : \"user\",\n",
    "            \"content\" : \"What is the answer to life, universe and everything?\"\n",
    "        }\n",
    "    ]\n",
    ")"
   ]
  },
  {
   "cell_type": "code",
   "execution_count": 4,
   "id": "6bc32c48",
   "metadata": {},
   "outputs": [
    {
     "data": {
      "text/plain": [
       "'The answer to life, the universe, and everything is famously noted as \"42,\" according to Douglas Adams\\' science fiction series \"The Hitchhiker\\'s Guide to the Galaxy.\" However, the question itself remains unknown, leaving the answer somewhat humorous and enigmatic.'"
      ]
     },
     "execution_count": 4,
     "metadata": {},
     "output_type": "execute_result"
    }
   ],
   "source": [
    "completion.choices[0].message.content"
   ]
  },
  {
   "cell_type": "markdown",
   "id": "7dac1163",
   "metadata": {},
   "source": [
    "## Making a simple Agent"
   ]
  },
  {
   "cell_type": "code",
   "execution_count": 5,
   "id": "a5f56718",
   "metadata": {},
   "outputs": [],
   "source": [
    "class Agent:\n",
    "    \n",
    "    def __init__(self, system=\"\"):\n",
    "        self.system = system\n",
    "        self.messages = []\n",
    "        if self.system:\n",
    "            self.messages.append({\"role\" : \"system\", \"content\" : system})\n",
    "    \n",
    "    def __call__(self, message):\n",
    "        self.messages.append({\"role\" : \"user\", \"content\" : message})\n",
    "        result = self.execute()\n",
    "        self.messages.append({\"role\" : \"assistant\", \"content\" : result})\n",
    "        return result\n",
    "    \n",
    "    def execute(self):\n",
    "        completion = client.chat.completions.create(\n",
    "            model = \"jabir-400b\",\n",
    "            messages = self.messages,\n",
    "            temperature = 0.0\n",
    "        )\n",
    "        \n",
    "        return completion.choices[0].message.content\n",
    "    "
   ]
  },
  {
   "cell_type": "markdown",
   "id": "4542eae2",
   "metadata": {},
   "source": [
    "## Testing the agent"
   ]
  },
  {
   "cell_type": "code",
   "execution_count": 6,
   "id": "3a9299f9",
   "metadata": {},
   "outputs": [],
   "source": [
    "sample_agent = Agent(\"You are a helpful assistant\")"
   ]
  },
  {
   "cell_type": "code",
   "execution_count": 7,
   "id": "612a5ff7",
   "metadata": {},
   "outputs": [
    {
     "data": {
      "text/plain": [
       "'1 + 1 equals 2.'"
      ]
     },
     "execution_count": 7,
     "metadata": {},
     "output_type": "execute_result"
    }
   ],
   "source": [
    "sample_agent(\"What is 1+1\")"
   ]
  },
  {
   "cell_type": "code",
   "execution_count": 8,
   "id": "2374041d",
   "metadata": {},
   "outputs": [
    {
     "data": {
      "text/plain": [
       "'I was developed by Muhammadreza Haghiri as part of the Jabir Project.'"
      ]
     },
     "execution_count": 8,
     "metadata": {},
     "output_type": "execute_result"
    }
   ],
   "source": [
    "sample_agent(\"Who made you?\")"
   ]
  },
  {
   "cell_type": "code",
   "execution_count": 9,
   "id": "6d18d130",
   "metadata": {},
   "outputs": [
    {
     "data": {
      "text/plain": [
       "[{'role': 'system', 'content': 'You are a helpful assistant'},\n",
       " {'role': 'user', 'content': 'What is 1+1'},\n",
       " {'role': 'assistant', 'content': '1 + 1 equals 2.'},\n",
       " {'role': 'user', 'content': 'Who made you?'},\n",
       " {'role': 'assistant',\n",
       "  'content': 'I was developed by Muhammadreza Haghiri as part of the Jabir Project.'}]"
      ]
     },
     "execution_count": 9,
     "metadata": {},
     "output_type": "execute_result"
    }
   ],
   "source": [
    "sample_agent.messages"
   ]
  },
  {
   "cell_type": "markdown",
   "id": "e7040596",
   "metadata": {},
   "source": [
    "## Actions"
   ]
  },
  {
   "cell_type": "code",
   "execution_count": 10,
   "id": "6722e369",
   "metadata": {},
   "outputs": [],
   "source": [
    "import math\n",
    "\n",
    "def nth_occurance_of_fibonacci(n):\n",
    "    sqrt_5 = math.sqrt(5)\n",
    "    phi = (1 + sqrt_5) / 2  # Golden ratio\n",
    "    psi = (1 - sqrt_5) / 2  # Conjugate of the golden ratio\n",
    "    \n",
    "    # Compute the Fibonacci number using the formula\n",
    "    F_n = (1 / sqrt_5) * (phi**n - psi**n)\n",
    "    return round(F_n)"
   ]
  },
  {
   "cell_type": "code",
   "execution_count": 11,
   "id": "0fa52caf",
   "metadata": {},
   "outputs": [
    {
     "data": {
      "text/plain": [
       "610"
      ]
     },
     "execution_count": 11,
     "metadata": {},
     "output_type": "execute_result"
    }
   ],
   "source": [
    "nth_occurance_of_fibonacci(15)"
   ]
  },
  {
   "cell_type": "code",
   "execution_count": 12,
   "id": "f068f0ed",
   "metadata": {},
   "outputs": [
    {
     "data": {
      "text/plain": [
       "5"
      ]
     },
     "execution_count": 12,
     "metadata": {},
     "output_type": "execute_result"
    }
   ],
   "source": [
    "nth_occurance_of_fibonacci(5)"
   ]
  },
  {
   "cell_type": "code",
   "execution_count": 14,
   "id": "59b409ff",
   "metadata": {},
   "outputs": [
    {
     "data": {
      "text/plain": [
       "43466557686938914862637500386755014010958388901725051132915256476112292920052539720295234060457458057800732025086130975998716977051839168242483814062805283311821051327273518050882075662659534523370463746326528"
      ]
     },
     "execution_count": 14,
     "metadata": {},
     "output_type": "execute_result"
    }
   ],
   "source": [
    "nth_occurance_of_fibonacci(1000)"
   ]
  },
  {
   "cell_type": "markdown",
   "id": "ecdca3a6",
   "metadata": {},
   "source": [
    "## Making an agent for doing some tasks"
   ]
  },
  {
   "cell_type": "code",
   "execution_count": 15,
   "id": "7b5b76da",
   "metadata": {},
   "outputs": [],
   "source": [
    "action_re = re.compile(\"^Action: (\\w+): (.*)$\")"
   ]
  },
  {
   "cell_type": "code",
   "execution_count": 16,
   "id": "29e3c8f4",
   "metadata": {},
   "outputs": [],
   "source": [
    "actions = {\n",
    "    \"nth_occurance_of_fibonacci\" : nth_occurance_of_fibonacci\n",
    "}"
   ]
  },
  {
   "cell_type": "code",
   "execution_count": 17,
   "id": "a736a9bd",
   "metadata": {},
   "outputs": [],
   "source": [
    "system_prompt = \"\"\"\n",
    "You are an action agent called Smith. You have the task to analyze user input and suggest the action, based on the list of available actions.\n",
    "Then, when the result of the action is sent back to you, you have to humanize the output. \n",
    "\n",
    "List of available tasks:\n",
    "- nth_occurance_of_fibonacci\n",
    "\n",
    "Example of the user's interaction with you:\n",
    "\n",
    "User: What is the 15th occurance of Fibbonacci? \n",
    "Assistant: Action: nth_occurance_of_fibonaci: 15\n",
    "User: The result of the action was ACTION_RESULR\n",
    "Assistant: HUMANIZED_VERSION_OF_WHAT_USER_PROVIDED\n",
    "\"\"\""
   ]
  },
  {
   "cell_type": "code",
   "execution_count": 18,
   "id": "82589e7b",
   "metadata": {},
   "outputs": [],
   "source": [
    "fibonacci_agent = Agent(system_prompt)"
   ]
  },
  {
   "cell_type": "code",
   "execution_count": 19,
   "id": "9f2aee78",
   "metadata": {},
   "outputs": [],
   "source": [
    "action = fibonacci_agent(\"What is 1001th occurance of fibonacci series?\")"
   ]
  },
  {
   "cell_type": "code",
   "execution_count": 20,
   "id": "075450e7",
   "metadata": {},
   "outputs": [
    {
     "name": "stdout",
     "output_type": "stream",
     "text": [
      "Action: nth_occurance_of_fibonacci: 1001\n"
     ]
    }
   ],
   "source": [
    "print(action)"
   ]
  },
  {
   "cell_type": "code",
   "execution_count": 21,
   "id": "cce14dd0",
   "metadata": {},
   "outputs": [],
   "source": [
    "def action_processing(action, actions):\n",
    "    \n",
    "    action = action_re.match(action)\n",
    "    action = action[0].split(\"Action:\")\n",
    "    action = action[1]\n",
    "    action = action.split(':')\n",
    "    \n",
    "    action_function = action[0].split(' ')[1]\n",
    "    action_input = action[1].split(' ')[1]\n",
    "    \n",
    "    if action_function == \"nth_occurance_of_fibonacci\":\n",
    "        result = actions[action_function](int(action_input))\n",
    "    \n",
    "    return result\n",
    "    "
   ]
  },
  {
   "cell_type": "code",
   "execution_count": 22,
   "id": "b1fa74c9",
   "metadata": {},
   "outputs": [],
   "source": [
    "result = action_processing(action, actions)"
   ]
  },
  {
   "cell_type": "code",
   "execution_count": 23,
   "id": "d7b9a03d",
   "metadata": {},
   "outputs": [
    {
     "data": {
      "text/plain": [
       "70330367711425174290694829277217085237890517319611544836492248291277937018392669473182883449499700079838702138514693954865215540324463972269041336236408103803463044485157310035600578886573282113950100689518592"
      ]
     },
     "execution_count": 23,
     "metadata": {},
     "output_type": "execute_result"
    }
   ],
   "source": [
    "result"
   ]
  },
  {
   "cell_type": "code",
   "execution_count": 24,
   "id": "b44f8173",
   "metadata": {},
   "outputs": [
    {
     "data": {
      "text/plain": [
       "'The 1001st occurrence of the Fibonacci series is an incredibly large number: 70330367711425174290694829277217085237890517319611544836492248291277937018392669473182883449499700079838702138514693954865215540324463972269041336236408103803463044485157310035600578886573282113950100689518592. This highlights how quickly Fibonacci numbers can grow!'"
      ]
     },
     "execution_count": 24,
     "metadata": {},
     "output_type": "execute_result"
    }
   ],
   "source": [
    "fibonacci_agent(f\"The result of the action was {result}\")"
   ]
  }
 ],
 "metadata": {
  "kernelspec": {
   "display_name": "Python 3 (ipykernel)",
   "language": "python",
   "name": "python3"
  },
  "language_info": {
   "codemirror_mode": {
    "name": "ipython",
    "version": 3
   },
   "file_extension": ".py",
   "mimetype": "text/x-python",
   "name": "python",
   "nbconvert_exporter": "python",
   "pygments_lexer": "ipython3",
   "version": "3.11.1"
  }
 },
 "nbformat": 4,
 "nbformat_minor": 5
}
